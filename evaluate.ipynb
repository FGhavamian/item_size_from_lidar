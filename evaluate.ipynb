{
 "cells": [
  {
   "cell_type": "code",
   "execution_count": 1,
   "metadata": {},
   "outputs": [],
   "source": [
    "import pandas as pd\n",
    "import numpy as np\n",
    "from pathlib import Path"
   ]
  },
  {
   "cell_type": "code",
   "execution_count": 2,
   "metadata": {},
   "outputs": [
    {
     "name": "stdout",
     "output_type": "stream",
     "text": [
      "Jupyter environment detected. Enabling Open3D WebVisualizer.\n",
      "[Open3D INFO] WebRTC GUI backend enabled.\n",
      "[Open3D INFO] WebRTCWindowSystem: HTTP handshake server disabled.\n"
     ]
    }
   ],
   "source": [
    "from compute_bounding_box import run"
   ]
  },
  {
   "cell_type": "code",
   "execution_count": 3,
   "metadata": {},
   "outputs": [],
   "source": [
    "file_paths = [p for p in Path().glob(\"data/output_*/*\")]\n",
    "\n",
    "output_paths = [p for p in file_paths if \"output\" in p.name]\n",
    "floor_path = Path(\"data/floor.csv\")"
   ]
  },
  {
   "cell_type": "code",
   "execution_count": 4,
   "metadata": {},
   "outputs": [],
   "source": [
    "def get_target_size(input_path):\n",
    "    with open(input_path, \"r\") as f:\n",
    "        target_size = [] \n",
    "        for _ in range(3): \n",
    "            line = f.readline()\n",
    "            dim = int(line[7:-1])\n",
    "            target_size.append(dim) \n",
    "\n",
    "    return tuple(target_size)"
   ]
  },
  {
   "cell_type": "code",
   "execution_count": 16,
   "metadata": {},
   "outputs": [],
   "source": [
    "results = {}\n",
    "\n",
    "for item_pcd_file_path in output_paths:\n",
    "    measured_size = run(item_pcd_file_path, floor_path, visualize=False)\n",
    "\n",
    "    input_path = item_pcd_file_path.parent / \"input.txt\"\n",
    "    target_size = get_target_size(input_path)\n",
    "\n",
    "\n",
    "    e1 = abs(measured_size[0] - target_size[0])\n",
    "    e2 = abs(measured_size[1] - target_size[1])\n",
    "    e3 = abs(measured_size[2] - target_size[2])\n",
    "\n",
    "    id_ = item_pcd_file_path.name[7:-4]\n",
    "\n",
    "    max_error_abs = np.max([e1,e2,e3])\n",
    "    idx_max_error = np.argmax([e1,e2,e3])\n",
    "    max_error_rel = max_error_abs / target_size[idx_max_error]\n",
    "\n",
    "    results[id_] = (measured_size, target_size, e1, e2, e3, max_error_abs, max_error_rel, idx_max_error)"
   ]
  },
  {
   "cell_type": "code",
   "execution_count": 50,
   "metadata": {},
   "outputs": [
    {
     "data": {
      "text/html": [
       "<div>\n",
       "<style scoped>\n",
       "    .dataframe tbody tr th:only-of-type {\n",
       "        vertical-align: middle;\n",
       "    }\n",
       "\n",
       "    .dataframe tbody tr th {\n",
       "        vertical-align: top;\n",
       "    }\n",
       "\n",
       "    .dataframe thead th {\n",
       "        text-align: right;\n",
       "    }\n",
       "</style>\n",
       "<table border=\"1\" class=\"dataframe\">\n",
       "  <thead>\n",
       "    <tr style=\"text-align: right;\">\n",
       "      <th></th>\n",
       "      <th>measured_size</th>\n",
       "      <th>target_size</th>\n",
       "      <th>e1</th>\n",
       "      <th>e2</th>\n",
       "      <th>e3</th>\n",
       "      <th>max_error_abs</th>\n",
       "      <th>max_error_rel</th>\n",
       "      <th>idx_max_error</th>\n",
       "      <th>longest_dim_is_along_z_dim</th>\n",
       "      <th>max_error_is_along_z_dim</th>\n",
       "    </tr>\n",
       "  </thead>\n",
       "  <tbody>\n",
       "    <tr>\n",
       "      <th>11</th>\n",
       "      <td>(52, 94, 249)</td>\n",
       "      <td>(60, 94, 290)</td>\n",
       "      <td>8</td>\n",
       "      <td>0</td>\n",
       "      <td>41</td>\n",
       "      <td>41</td>\n",
       "      <td>0.141379</td>\n",
       "      <td>2</td>\n",
       "      <td>True</td>\n",
       "      <td>True</td>\n",
       "    </tr>\n",
       "    <tr>\n",
       "      <th>12</th>\n",
       "      <td>(69, 62, 146)</td>\n",
       "      <td>(76, 76, 175)</td>\n",
       "      <td>7</td>\n",
       "      <td>14</td>\n",
       "      <td>29</td>\n",
       "      <td>29</td>\n",
       "      <td>0.165714</td>\n",
       "      <td>2</td>\n",
       "      <td>True</td>\n",
       "      <td>True</td>\n",
       "    </tr>\n",
       "    <tr>\n",
       "      <th>6</th>\n",
       "      <td>(44, 101, 83)</td>\n",
       "      <td>(50, 109, 109)</td>\n",
       "      <td>6</td>\n",
       "      <td>8</td>\n",
       "      <td>26</td>\n",
       "      <td>26</td>\n",
       "      <td>0.238532</td>\n",
       "      <td>2</td>\n",
       "      <td>False</td>\n",
       "      <td>True</td>\n",
       "    </tr>\n",
       "    <tr>\n",
       "      <th>15</th>\n",
       "      <td>(55, 60, 166)</td>\n",
       "      <td>(70, 70, 190)</td>\n",
       "      <td>15</td>\n",
       "      <td>10</td>\n",
       "      <td>24</td>\n",
       "      <td>24</td>\n",
       "      <td>0.126316</td>\n",
       "      <td>2</td>\n",
       "      <td>True</td>\n",
       "      <td>True</td>\n",
       "    </tr>\n",
       "    <tr>\n",
       "      <th>17</th>\n",
       "      <td>(202, 57, 63)</td>\n",
       "      <td>(205, 75, 85)</td>\n",
       "      <td>3</td>\n",
       "      <td>18</td>\n",
       "      <td>22</td>\n",
       "      <td>22</td>\n",
       "      <td>0.258824</td>\n",
       "      <td>2</td>\n",
       "      <td>False</td>\n",
       "      <td>True</td>\n",
       "    </tr>\n",
       "    <tr>\n",
       "      <th>13</th>\n",
       "      <td>(53, 51, 115)</td>\n",
       "      <td>(54, 54, 135)</td>\n",
       "      <td>1</td>\n",
       "      <td>3</td>\n",
       "      <td>20</td>\n",
       "      <td>20</td>\n",
       "      <td>0.148148</td>\n",
       "      <td>2</td>\n",
       "      <td>True</td>\n",
       "      <td>True</td>\n",
       "    </tr>\n",
       "    <tr>\n",
       "      <th>5</th>\n",
       "      <td>(13, 48, 115)</td>\n",
       "      <td>(13, 55, 135)</td>\n",
       "      <td>0</td>\n",
       "      <td>7</td>\n",
       "      <td>20</td>\n",
       "      <td>20</td>\n",
       "      <td>0.148148</td>\n",
       "      <td>2</td>\n",
       "      <td>True</td>\n",
       "      <td>True</td>\n",
       "    </tr>\n",
       "    <tr>\n",
       "      <th>9</th>\n",
       "      <td>(67, 51, 75)</td>\n",
       "      <td>(85, 55, 85)</td>\n",
       "      <td>18</td>\n",
       "      <td>4</td>\n",
       "      <td>10</td>\n",
       "      <td>18</td>\n",
       "      <td>0.211765</td>\n",
       "      <td>0</td>\n",
       "      <td>False</td>\n",
       "      <td>False</td>\n",
       "    </tr>\n",
       "    <tr>\n",
       "      <th>10</th>\n",
       "      <td>(58, 56, 166)</td>\n",
       "      <td>(65, 65, 180)</td>\n",
       "      <td>7</td>\n",
       "      <td>9</td>\n",
       "      <td>14</td>\n",
       "      <td>14</td>\n",
       "      <td>0.077778</td>\n",
       "      <td>2</td>\n",
       "      <td>True</td>\n",
       "      <td>True</td>\n",
       "    </tr>\n",
       "    <tr>\n",
       "      <th>7</th>\n",
       "      <td>(78, 122, 166)</td>\n",
       "      <td>(78, 120, 180)</td>\n",
       "      <td>0</td>\n",
       "      <td>2</td>\n",
       "      <td>14</td>\n",
       "      <td>14</td>\n",
       "      <td>0.077778</td>\n",
       "      <td>2</td>\n",
       "      <td>True</td>\n",
       "      <td>True</td>\n",
       "    </tr>\n",
       "    <tr>\n",
       "      <th>8</th>\n",
       "      <td>(90, 122, 166)</td>\n",
       "      <td>(80, 120, 175)</td>\n",
       "      <td>10</td>\n",
       "      <td>2</td>\n",
       "      <td>9</td>\n",
       "      <td>10</td>\n",
       "      <td>0.125</td>\n",
       "      <td>0</td>\n",
       "      <td>True</td>\n",
       "      <td>False</td>\n",
       "    </tr>\n",
       "    <tr>\n",
       "      <th>16</th>\n",
       "      <td>(21, 223, 345)</td>\n",
       "      <td>(21, 230, 355)</td>\n",
       "      <td>0</td>\n",
       "      <td>7</td>\n",
       "      <td>10</td>\n",
       "      <td>10</td>\n",
       "      <td>0.028169</td>\n",
       "      <td>2</td>\n",
       "      <td>True</td>\n",
       "      <td>True</td>\n",
       "    </tr>\n",
       "    <tr>\n",
       "      <th>2</th>\n",
       "      <td>(36, 59, 83)</td>\n",
       "      <td>(40, 55, 92)</td>\n",
       "      <td>4</td>\n",
       "      <td>4</td>\n",
       "      <td>9</td>\n",
       "      <td>9</td>\n",
       "      <td>0.097826</td>\n",
       "      <td>2</td>\n",
       "      <td>True</td>\n",
       "      <td>True</td>\n",
       "    </tr>\n",
       "    <tr>\n",
       "      <th>14</th>\n",
       "      <td>(53, 54, 83)</td>\n",
       "      <td>(56, 54, 90)</td>\n",
       "      <td>3</td>\n",
       "      <td>0</td>\n",
       "      <td>7</td>\n",
       "      <td>7</td>\n",
       "      <td>0.077778</td>\n",
       "      <td>2</td>\n",
       "      <td>True</td>\n",
       "      <td>True</td>\n",
       "    </tr>\n",
       "    <tr>\n",
       "      <th>3</th>\n",
       "      <td>(81, 123, 222)</td>\n",
       "      <td>(82, 116, 226)</td>\n",
       "      <td>1</td>\n",
       "      <td>7</td>\n",
       "      <td>4</td>\n",
       "      <td>7</td>\n",
       "      <td>0.060345</td>\n",
       "      <td>1</td>\n",
       "      <td>True</td>\n",
       "      <td>False</td>\n",
       "    </tr>\n",
       "    <tr>\n",
       "      <th>4</th>\n",
       "      <td>(100, 163, 241)</td>\n",
       "      <td>(102, 163, 247)</td>\n",
       "      <td>2</td>\n",
       "      <td>0</td>\n",
       "      <td>6</td>\n",
       "      <td>6</td>\n",
       "      <td>0.024291</td>\n",
       "      <td>2</td>\n",
       "      <td>True</td>\n",
       "      <td>True</td>\n",
       "    </tr>\n",
       "    <tr>\n",
       "      <th>18</th>\n",
       "      <td>(124, 94, 119)</td>\n",
       "      <td>(124, 98, 125)</td>\n",
       "      <td>0</td>\n",
       "      <td>4</td>\n",
       "      <td>6</td>\n",
       "      <td>6</td>\n",
       "      <td>0.048</td>\n",
       "      <td>2</td>\n",
       "      <td>True</td>\n",
       "      <td>True</td>\n",
       "    </tr>\n",
       "  </tbody>\n",
       "</table>\n",
       "</div>"
      ],
      "text/plain": [
       "      measured_size      target_size  e1  e2  e3 max_error_abs max_error_rel  \\\n",
       "11    (52, 94, 249)    (60, 94, 290)   8   0  41            41      0.141379   \n",
       "12    (69, 62, 146)    (76, 76, 175)   7  14  29            29      0.165714   \n",
       "6     (44, 101, 83)   (50, 109, 109)   6   8  26            26      0.238532   \n",
       "15    (55, 60, 166)    (70, 70, 190)  15  10  24            24      0.126316   \n",
       "17    (202, 57, 63)    (205, 75, 85)   3  18  22            22      0.258824   \n",
       "13    (53, 51, 115)    (54, 54, 135)   1   3  20            20      0.148148   \n",
       "5     (13, 48, 115)    (13, 55, 135)   0   7  20            20      0.148148   \n",
       "9      (67, 51, 75)     (85, 55, 85)  18   4  10            18      0.211765   \n",
       "10    (58, 56, 166)    (65, 65, 180)   7   9  14            14      0.077778   \n",
       "7    (78, 122, 166)   (78, 120, 180)   0   2  14            14      0.077778   \n",
       "8    (90, 122, 166)   (80, 120, 175)  10   2   9            10         0.125   \n",
       "16   (21, 223, 345)   (21, 230, 355)   0   7  10            10      0.028169   \n",
       "2      (36, 59, 83)     (40, 55, 92)   4   4   9             9      0.097826   \n",
       "14     (53, 54, 83)     (56, 54, 90)   3   0   7             7      0.077778   \n",
       "3    (81, 123, 222)   (82, 116, 226)   1   7   4             7      0.060345   \n",
       "4   (100, 163, 241)  (102, 163, 247)   2   0   6             6      0.024291   \n",
       "18   (124, 94, 119)   (124, 98, 125)   0   4   6             6         0.048   \n",
       "\n",
       "   idx_max_error  longest_dim_is_along_z_dim  max_error_is_along_z_dim  \n",
       "11             2                        True                      True  \n",
       "12             2                        True                      True  \n",
       "6              2                       False                      True  \n",
       "15             2                        True                      True  \n",
       "17             2                       False                      True  \n",
       "13             2                        True                      True  \n",
       "5              2                        True                      True  \n",
       "9              0                       False                     False  \n",
       "10             2                        True                      True  \n",
       "7              2                        True                      True  \n",
       "8              0                        True                     False  \n",
       "16             2                        True                      True  \n",
       "2              2                        True                      True  \n",
       "14             2                        True                      True  \n",
       "3              1                        True                     False  \n",
       "4              2                        True                      True  \n",
       "18             2                        True                      True  "
      ]
     },
     "execution_count": 50,
     "metadata": {},
     "output_type": "execute_result"
    }
   ],
   "source": [
    "results_df = pd.DataFrame(results).T\n",
    "results_df.columns = [\"measured_size\", \"target_size\", \"e1\", \"e2\", \"e3\", \"max_error_abs\", \"max_error_rel\", \"idx_max_error\"]\n",
    "results_df = results_df.sort_values(by=\"max_error_abs\", ascending=False)\n",
    "results_df = results_df.assign(\n",
    "    longest_dim_is_along_z_dim = results_df.target_size.apply(np.argmax)==2, \n",
    "    max_error_is_along_z_dim = results_df.idx_max_error == 2\n",
    ")\n",
    "results_df"
   ]
  },
  {
   "cell_type": "code",
   "execution_count": 27,
   "metadata": {},
   "outputs": [
    {
     "data": {
      "text/plain": [
       "<Axes: title={'center': 'dimension at which maximum measuremed error is at'}, xlabel='count', ylabel='dim'>"
      ]
     },
     "execution_count": 27,
     "metadata": {},
     "output_type": "execute_result"
    },
    {
     "data": {
      "image/png": "[encoded data removed]",
      "text/plain": [
       "<Figure size 640x480 with 1 Axes>"
      ]
     },
     "metadata": {},
     "output_type": "display_data"
    }
   ],
   "source": [
    "results_df[\"idx_max_error\"].value_counts().sort_index().plot.barh(ylabel=\"dim\", xlabel=\"count\", title=\"dimension at which maximum measuremed error is at\")"
   ]
  },
  {
   "cell_type": "code",
   "execution_count": 60,
   "metadata": {},
   "outputs": [
    {
     "data": {
      "text/plain": [
       "<Axes: title={'center': 'below 1 cm mistake is ok, above 2 is not.'}, xlabel='absolute maximum error among all dimensions', ylabel='count'>"
      ]
     },
     "execution_count": 60,
     "metadata": {},
     "output_type": "execute_result"
    },
    {
     "data": {
      "image/png": "[encoded data removed]",
      "text/plain": [
       "<Figure size 640x480 with 1 Axes>"
      ]
     },
     "metadata": {},
     "output_type": "display_data"
    }
   ],
   "source": [
    "results_df[\"max_error_abs\"].plot.hist(\n",
    "    bins=6, \n",
    "    xlabel=\"absolute maximum error among all dimensions\", \n",
    "    ylabel=\"count\", \n",
    "    title=\"below 1 cm mistake is ok, above 2 is not.\"\n",
    ")"
   ]
  },
  {
   "cell_type": "code",
   "execution_count": null,
   "metadata": {},
   "outputs": [],
   "source": []
  },
  {
   "cell_type": "code",
   "execution_count": 46,
   "metadata": {},
   "outputs": [
    {
     "data": {
      "text/plain": [
       "<Axes: title={'center': 'below 1 cm mistake is ok, above 3 is not.'}, xlabel='rel maximum error among all dimensions', ylabel='count'>"
      ]
     },
     "execution_count": 46,
     "metadata": {},
     "output_type": "execute_result"
    },
    {
     "data": {
      "image/png": "[encoded data removed]",
      "text/plain": [
       "<Figure size 640x480 with 1 Axes>"
      ]
     },
     "metadata": {},
     "output_type": "display_data"
    }
   ],
   "source": [
    "results_df[\"max_error_rel\"].plot.hist(\n",
    "    bins=6, \n",
    "    xlabel=\"rel maximum error among all dimensions\", \n",
    "    ylabel=\"count\", \n",
    "    title=\"below 1 cm mistake is ok, above 3 is not.\"\n",
    ")"
   ]
  }
 ],
 "metadata": {
  "kernelspec": {
   "display_name": "env",
   "language": "python",
   "name": "python3"
  },
  "language_info": {
   "codemirror_mode": {
    "name": "ipython",
    "version": 3
   },
   "file_extension": ".py",
   "mimetype": "text/x-python",
   "name": "python",
   "nbconvert_exporter": "python",
   "pygments_lexer": "ipython3",
   "version": "3.10.12"
  }
 },
 "nbformat": 4,
 "nbformat_minor": 2
}
