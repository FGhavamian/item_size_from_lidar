{
 "cells": [
  {
   "cell_type": "code",
   "execution_count": 1,
   "metadata": {},
   "outputs": [
    {
     "name": "stdout",
     "output_type": "stream",
     "text": [
      "Jupyter environment detected. Enabling Open3D WebVisualizer.\n",
      "[Open3D INFO] WebRTC GUI backend enabled.\n",
      "[Open3D INFO] WebRTCWindowSystem: HTTP handshake server disabled.\n"
     ]
    }
   ],
   "source": [
    "from pathlib import Path\n",
    "\n",
    "import pandas as pd \n",
    "import numpy as np\n",
    "import matplotlib.pyplot as plt \n",
    "import open3d as o3d "
   ]
  },
  {
   "cell_type": "markdown",
   "metadata": {},
   "source": [
    "# Read files"
   ]
  },
  {
   "cell_type": "code",
   "execution_count": 2,
   "metadata": {},
   "outputs": [
    {
     "data": {
      "text/plain": [
       "[PosixPath('data/output_62.csv'),\n",
       " PosixPath('data/output_44.csv'),\n",
       " PosixPath('data/output_18.csv')]"
      ]
     },
     "execution_count": 2,
     "metadata": {},
     "output_type": "execute_result"
    }
   ],
   "source": [
    "item_file_names = list(Path(\"data\").glob(\"output_*[!_final].csv\"))\n",
    "item_file_names[:3]"
   ]
  },
  {
   "cell_type": "code",
   "execution_count": 3,
   "metadata": {},
   "outputs": [],
   "source": [
    "floor = pd.read_csv(\"data/floor.csv\", index_col=0)\n",
    "\n",
    "items = []\n",
    "for item_file_name in item_file_names:\n",
    "    item = pd.read_csv(item_file_name, index_col=0)\n",
    "    items.append(item)"
   ]
  },
  {
   "cell_type": "code",
   "execution_count": 4,
   "metadata": {},
   "outputs": [
    {
     "data": {
      "text/html": [
       "<div>\n",
       "<style scoped>\n",
       "    .dataframe tbody tr th:only-of-type {\n",
       "        vertical-align: middle;\n",
       "    }\n",
       "\n",
       "    .dataframe tbody tr th {\n",
       "        vertical-align: top;\n",
       "    }\n",
       "\n",
       "    .dataframe thead th {\n",
       "        text-align: right;\n",
       "    }\n",
       "</style>\n",
       "<table border=\"1\" class=\"dataframe\">\n",
       "  <thead>\n",
       "    <tr style=\"text-align: right;\">\n",
       "      <th></th>\n",
       "      <th>x</th>\n",
       "      <th>y</th>\n",
       "      <th>z</th>\n",
       "    </tr>\n",
       "  </thead>\n",
       "  <tbody>\n",
       "    <tr>\n",
       "      <th>0</th>\n",
       "      <td>0.0</td>\n",
       "      <td>219.63515</td>\n",
       "      <td>9.462</td>\n",
       "    </tr>\n",
       "    <tr>\n",
       "      <th>1</th>\n",
       "      <td>0.0</td>\n",
       "      <td>203.81268</td>\n",
       "      <td>9.462</td>\n",
       "    </tr>\n",
       "    <tr>\n",
       "      <th>2</th>\n",
       "      <td>0.0</td>\n",
       "      <td>188.38454</td>\n",
       "      <td>9.462</td>\n",
       "    </tr>\n",
       "    <tr>\n",
       "      <th>3</th>\n",
       "      <td>0.0</td>\n",
       "      <td>172.77199</td>\n",
       "      <td>9.462</td>\n",
       "    </tr>\n",
       "    <tr>\n",
       "      <th>4</th>\n",
       "      <td>0.0</td>\n",
       "      <td>157.28883</td>\n",
       "      <td>9.462</td>\n",
       "    </tr>\n",
       "  </tbody>\n",
       "</table>\n",
       "</div>"
      ],
      "text/plain": [
       "     x          y      z\n",
       "0  0.0  219.63515  9.462\n",
       "1  0.0  203.81268  9.462\n",
       "2  0.0  188.38454  9.462\n",
       "3  0.0  172.77199  9.462\n",
       "4  0.0  157.28883  9.462"
      ]
     },
     "execution_count": 4,
     "metadata": {},
     "output_type": "execute_result"
    }
   ],
   "source": [
    "floor.head()"
   ]
  },
  {
   "cell_type": "code",
   "execution_count": 5,
   "metadata": {},
   "outputs": [
    {
     "data": {
      "text/plain": [
       "(5098, 3)"
      ]
     },
     "execution_count": 5,
     "metadata": {},
     "output_type": "execute_result"
    }
   ],
   "source": [
    "floor.shape"
   ]
  },
  {
   "cell_type": "code",
   "execution_count": 6,
   "metadata": {},
   "outputs": [
    {
     "data": {
      "text/html": [
       "<div>\n",
       "<style scoped>\n",
       "    .dataframe tbody tr th:only-of-type {\n",
       "        vertical-align: middle;\n",
       "    }\n",
       "\n",
       "    .dataframe tbody tr th {\n",
       "        vertical-align: top;\n",
       "    }\n",
       "\n",
       "    .dataframe thead th {\n",
       "        text-align: right;\n",
       "    }\n",
       "</style>\n",
       "<table border=\"1\" class=\"dataframe\">\n",
       "  <thead>\n",
       "    <tr style=\"text-align: right;\">\n",
       "      <th></th>\n",
       "      <th>x</th>\n",
       "      <th>y</th>\n",
       "      <th>z</th>\n",
       "      <th>conf</th>\n",
       "    </tr>\n",
       "  </thead>\n",
       "  <tbody>\n",
       "    <tr>\n",
       "      <th>0</th>\n",
       "      <td>62.119286</td>\n",
       "      <td>229.76552</td>\n",
       "      <td>8.217</td>\n",
       "      <td>230.0</td>\n",
       "    </tr>\n",
       "    <tr>\n",
       "      <th>1</th>\n",
       "      <td>61.866330</td>\n",
       "      <td>213.80930</td>\n",
       "      <td>8.217</td>\n",
       "      <td>230.0</td>\n",
       "    </tr>\n",
       "    <tr>\n",
       "      <th>2</th>\n",
       "      <td>62.005833</td>\n",
       "      <td>197.95818</td>\n",
       "      <td>8.217</td>\n",
       "      <td>230.0</td>\n",
       "    </tr>\n",
       "    <tr>\n",
       "      <th>3</th>\n",
       "      <td>63.494423</td>\n",
       "      <td>181.94684</td>\n",
       "      <td>8.217</td>\n",
       "      <td>230.0</td>\n",
       "    </tr>\n",
       "    <tr>\n",
       "      <th>4</th>\n",
       "      <td>64.409960</td>\n",
       "      <td>166.35594</td>\n",
       "      <td>8.217</td>\n",
       "      <td>230.0</td>\n",
       "    </tr>\n",
       "  </tbody>\n",
       "</table>\n",
       "</div>"
      ],
      "text/plain": [
       "           x          y      z   conf\n",
       "0  62.119286  229.76552  8.217  230.0\n",
       "1  61.866330  213.80930  8.217  230.0\n",
       "2  62.005833  197.95818  8.217  230.0\n",
       "3  63.494423  181.94684  8.217  230.0\n",
       "4  64.409960  166.35594  8.217  230.0"
      ]
     },
     "execution_count": 6,
     "metadata": {},
     "output_type": "execute_result"
    }
   ],
   "source": [
    "items[0].head()"
   ]
  },
  {
   "cell_type": "code",
   "execution_count": 7,
   "metadata": {},
   "outputs": [
    {
     "data": {
      "text/plain": [
       "(2415, 4)"
      ]
     },
     "execution_count": 7,
     "metadata": {},
     "output_type": "execute_result"
    }
   ],
   "source": [
    "item.shape"
   ]
  },
  {
   "cell_type": "markdown",
   "metadata": {},
   "source": [
    "# Make o3d point cloud"
   ]
  },
  {
   "cell_type": "code",
   "execution_count": 8,
   "metadata": {},
   "outputs": [],
   "source": [
    "def convert_to_pcd(np_pcd):\n",
    "    pcd = o3d.geometry.PointCloud()\n",
    "    pcd.points = o3d.utility.Vector3dVector(np_pcd)\n",
    "    return pcd "
   ]
  },
  {
   "cell_type": "code",
   "execution_count": 9,
   "metadata": {},
   "outputs": [],
   "source": [
    "items_pcds = []\n",
    "\n",
    "for item in items: \n",
    "    item_pcd = convert_to_pcd(item.values[:,:-1])\n",
    "    items_pcds.append(item_pcd)"
   ]
  },
  {
   "cell_type": "code",
   "execution_count": 10,
   "metadata": {},
   "outputs": [],
   "source": [
    "floor_pcd = convert_to_pcd(floor.values)"
   ]
  },
  {
   "cell_type": "code",
   "execution_count": 11,
   "metadata": {},
   "outputs": [],
   "source": [
    "o3d.visualization.draw_geometries([items_pcds[2]])"
   ]
  },
  {
   "cell_type": "markdown",
   "metadata": {},
   "source": [
    "# Analysis on point distance\n",
    "it seems like points are mostly capture at intervals of 10 (see the histogram below)."
   ]
  },
  {
   "cell_type": "code",
   "execution_count": 12,
   "metadata": {},
   "outputs": [],
   "source": [
    "def compute_distance_to_self(pcd):\n",
    "    # KDTree for finding the nearest neighbor\n",
    "    pcd_tree = o3d.geometry.KDTreeFlann(pcd)\n",
    "\n",
    "    # To store the shortest distances\n",
    "    distances = []\n",
    "\n",
    "    # Loop through all points in the point cloud\n",
    "    for i in range(np.asarray(pcd.points).shape[0]):\n",
    "        # Find the 2 nearest neighbors (the first is the point itself)\n",
    "        [k, idx, _] = pcd_tree.search_knn_vector_3d(pcd.points[i], 2)\n",
    "        \n",
    "        # Compute the distance to the nearest neighbor (not itself)\n",
    "        if k >= 2:\n",
    "            nn_distance = np.linalg.norm(np.asarray(pcd.points[i]) - np.asarray(pcd.points[idx[1]]))\n",
    "            distances.append(nn_distance)\n",
    "        else:\n",
    "            # Handle the case where no neighbor is found\n",
    "            distances.append(float('inf'))\n",
    "\n",
    "    return distances"
   ]
  },
  {
   "cell_type": "code",
   "execution_count": 13,
   "metadata": {},
   "outputs": [],
   "source": [
    "distances = []\n",
    "for pcd in items_pcds: \n",
    "    distances += compute_distance_to_self(pcd)"
   ]
  },
  {
   "cell_type": "code",
   "execution_count": 14,
   "metadata": {},
   "outputs": [
    {
     "data": {
      "text/plain": [
       "105641"
      ]
     },
     "execution_count": 14,
     "metadata": {},
     "output_type": "execute_result"
    }
   ],
   "source": [
    "len(distances)"
   ]
  },
  {
   "cell_type": "code",
   "execution_count": 15,
   "metadata": {},
   "outputs": [
    {
     "data": {
      "image/png": "[encoded data removed]",
      "text/plain": [
       "<Figure size 640x480 with 1 Axes>"
      ]
     },
     "metadata": {},
     "output_type": "display_data"
    }
   ],
   "source": [
    "plt.hist(distances, bins=100)\n",
    "plt.yscale(\"log\");"
   ]
  },
  {
   "cell_type": "code",
   "execution_count": 16,
   "metadata": {},
   "outputs": [
    {
     "data": {
      "image/png": "[encoded data removed]",
      "text/plain": [
       "<Figure size 640x480 with 1 Axes>"
      ]
     },
     "metadata": {},
     "output_type": "display_data"
    }
   ],
   "source": [
    "plt.hist([d for d in distances if d<50], bins=100);\n",
    "# plt.yscale(\"log\");"
   ]
  },
  {
   "cell_type": "markdown",
   "metadata": {},
   "source": [
    "# Remove floor"
   ]
  },
  {
   "cell_type": "code",
   "execution_count": 17,
   "metadata": {},
   "outputs": [],
   "source": [
    "def remove_floor(item_pcd, floor_pcd, threshold_distance):\n",
    "    \n",
    "    dists = item_pcd.compute_point_cloud_distance(floor_pcd)\n",
    "    dists = np.asarray(dists)\n",
    "\n",
    "    ind = np.where(dists > threshold_distance)[0]\n",
    "    item_nofloor_pcd = item_pcd.select_by_index(ind)\n",
    "\n",
    "    ind = np.where(dists <= threshold_distance)[0]\n",
    "    item_floor_pcd = item_pcd.select_by_index(ind)\n",
    "\n",
    "    return item_nofloor_pcd, item_floor_pcd"
   ]
  },
  {
   "cell_type": "code",
   "execution_count": 18,
   "metadata": {},
   "outputs": [],
   "source": [
    "threshold_distance = 10\n",
    "\n",
    "items_nofloor_pcds = []\n",
    "items_floor_pcds = []\n",
    "\n",
    "for item_pcd in items_pcds: \n",
    "    item_nofloor_pcd, item_floor_pcd = remove_floor(item_pcd, floor_pcd, threshold_distance)\n",
    "    items_nofloor_pcds.append(item_nofloor_pcd)\n",
    "    items_floor_pcds.append(item_floor_pcd)"
   ]
  },
  {
   "cell_type": "code",
   "execution_count": 19,
   "metadata": {},
   "outputs": [],
   "source": [
    "idx = 5\n",
    "\n",
    "o3d.visualization.draw_geometries([\n",
    "    items_floor_pcds[idx].paint_uniform_color([1,.5,1]), \n",
    "    items_nofloor_pcds[idx].paint_uniform_color([0,1,1])\n",
    "])"
   ]
  },
  {
   "cell_type": "markdown",
   "metadata": {},
   "source": [
    "# Remove outliers"
   ]
  },
  {
   "cell_type": "code",
   "execution_count": 90,
   "metadata": {},
   "outputs": [],
   "source": [
    "def remove_outliers(pcd, nb_neighbors=20, std_ratio=.5):\n",
    "    cl, ind = pcd.remove_statistical_outlier(nb_neighbors=nb_neighbors, std_ratio=std_ratio)\n",
    "\n",
    "    inlier_cloud = pcd.select_by_index(ind)\n",
    "\n",
    "    return inlier_cloud"
   ]
  },
  {
   "cell_type": "code",
   "execution_count": 91,
   "metadata": {},
   "outputs": [],
   "source": [
    "items_inlier_nofloor_pcds = []\n",
    "\n",
    "for item_pcd in items_nofloor_pcds:\n",
    "    item_inlier_pcd = remove_outliers(item_pcd)\n",
    "    items_inlier_nofloor_pcds.append(item_inlier_pcd)"
   ]
  },
  {
   "cell_type": "code",
   "execution_count": 92,
   "metadata": {},
   "outputs": [],
   "source": [
    "items_inlier_floor_pcds = []\n",
    "\n",
    "for item_pcd in items_floor_pcds:\n",
    "    item_inlier_pcd = remove_outliers(item_pcd)\n",
    "    items_inlier_floor_pcds.append(item_inlier_pcd)"
   ]
  },
  {
   "cell_type": "code",
   "execution_count": 68,
   "metadata": {},
   "outputs": [],
   "source": [
    "o3d.visualization.draw_geometries([\n",
    "    items_inlier_nofloor_pcds[0].paint_uniform_color([0,1,1]), \n",
    "    items_inlier_floor_pcds[0].paint_uniform_color([1,.5,1])\n",
    "])"
   ]
  },
  {
   "cell_type": "code",
   "execution_count": 69,
   "metadata": {},
   "outputs": [],
   "source": [
    "def compute_bounding_box(pcd):\n",
    "    # obb = pcd.get_oriented_bounding_box()\n",
    "    obb = pcd.get_axis_aligned_bounding_box()\n",
    "    return obb"
   ]
  },
  {
   "cell_type": "code",
   "execution_count": 70,
   "metadata": {},
   "outputs": [],
   "source": [
    "bboxes_items = []\n",
    "\n",
    "for item_pcd in items_inlier_nofloor_pcds:\n",
    "    bbox = compute_bounding_box(item_pcd)\n",
    "    bboxes_items.append(bbox)"
   ]
  },
  {
   "cell_type": "code",
   "execution_count": 71,
   "metadata": {},
   "outputs": [],
   "source": [
    "bboxes_floors = []\n",
    "\n",
    "for item_pcd in items_inlier_floor_pcds:\n",
    "    bbox = compute_bounding_box(item_pcd)\n",
    "    bboxes_floors.append(bbox)"
   ]
  },
  {
   "cell_type": "code",
   "execution_count": 72,
   "metadata": {},
   "outputs": [],
   "source": [
    "idx = 10\n",
    "\n",
    "o3d.visualization.draw_geometries([\n",
    "    items_inlier_nofloor_pcds[idx], \n",
    "    bboxes_items[idx],\n",
    "    items_inlier_floor_pcds[idx], \n",
    "    # bboxes_floors[idx]\n",
    "])"
   ]
  },
  {
   "cell_type": "code",
   "execution_count": null,
   "metadata": {},
   "outputs": [],
   "source": []
  },
  {
   "cell_type": "code",
   "execution_count": 93,
   "metadata": {},
   "outputs": [],
   "source": [
    "def compute_bbox_from_point_cloud(item_np_pcd, floor_np_pcd, threshold_distance, nb_neighbors, std_ratio):\n",
    "    item_pcd = convert_to_pcd(item_np_pcd.values[:,:-1])\n",
    "    floor_pcd = convert_to_pcd(floor_np_pcd.values)\n",
    "\n",
    "    item_nofloor_pcd, item_floor_pcd = remove_floor(item_pcd, floor_pcd, threshold_distance)\n",
    "\n",
    "    item_nofloor_inlier_pcd = remove_outliers(item_nofloor_pcd, nb_neighbors, std_ratio)\n",
    "    item_floor_inlier_pcd = remove_outliers(item_floor_pcd, nb_neighbors, std_ratio)\n",
    "\n",
    "    bbox_item = compute_bounding_box(item_nofloor_inlier_pcd)\n",
    "    bbox_floor = compute_bounding_box(item_floor_inlier_pcd)\n",
    "\n",
    "    bbox_item.color = (1,0,0)\n",
    "    bbox_floor.color = (0,1,0)\n",
    "\n",
    "    # shift item to the floor\n",
    "    bbox_item.min_bound = (\n",
    "        bbox_floor.max_bound[0], \n",
    "        bbox_item.min_bound[1], \n",
    "        bbox_item.min_bound[2]\n",
    "    )\n",
    "\n",
    "    return bbox_item, bbox_floor, item_floor_inlier_pcd, item_nofloor_inlier_pcd"
   ]
  },
  {
   "cell_type": "code",
   "execution_count": 121,
   "metadata": {},
   "outputs": [],
   "source": [
    "idx_item = 21\n",
    "\n",
    "threshold_distance = 10\n",
    "nb_neighbors=20\n",
    "std_ratio=1\n",
    "\n",
    "bbox_item, bbox_floor, item_floor_inlier_pcd, item_nofloor_inlier_pcd = compute_bbox_from_point_cloud(\n",
    "    items[idx_item], \n",
    "    floor, \n",
    "    threshold_distance, \n",
    "    nb_neighbors, \n",
    "    std_ratio\n",
    ")\n",
    "\n",
    "axis = o3d.geometry.TriangleMesh.create_coordinate_frame(size=50, origin=bbox_floor.max_bound)\n",
    "\n",
    "o3d.visualization.draw_geometries([\n",
    "    item_nofloor_inlier_pcd.paint_uniform_color([0,1,1]),\n",
    "    item_floor_inlier_pcd.paint_uniform_color([1,.5,1]), \n",
    "    bbox_item, \n",
    "    bbox_floor, \n",
    "    axis\n",
    "])"
   ]
  },
  {
   "cell_type": "code",
   "execution_count": null,
   "metadata": {},
   "outputs": [],
   "source": []
  }
 ],
 "metadata": {
  "kernelspec": {
   "display_name": "env",
   "language": "python",
   "name": "python3"
  },
  "language_info": {
   "codemirror_mode": {
    "name": "ipython",
    "version": 3
   },
   "file_extension": ".py",
   "mimetype": "text/x-python",
   "name": "python",
   "nbconvert_exporter": "python",
   "pygments_lexer": "ipython3",
   "version": "3.10.12"
  }
 },
 "nbformat": 4,
 "nbformat_minor": 2
}
